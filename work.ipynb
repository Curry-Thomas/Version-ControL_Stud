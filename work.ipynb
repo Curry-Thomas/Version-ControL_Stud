{
 "cells": [
  {
   "cell_type": "code",
   "execution_count": null,
   "id": "9412dcc9-1179-4c90-a2f6-7b1ae3e97bb6",
   "metadata": {},
   "outputs": [],
   "source": [
    "name = input(\"Enter Name: \")\n",
    "other = input(\"Other: \")"
   ]
  },
  {
   "cell_type": "code",
   "execution_count": 1,
   "id": "4f11671c-e254-485a-9410-677be32fcc3c",
   "metadata": {},
   "outputs": [
    {
     "name": "stdin",
     "output_type": "stream",
     "text": [
      "Enter age:  19\n",
      "Enter favorite color:  purple\n"
     ]
    }
   ],
   "source": [
    "age = float(input(\"Enter age: \"))\n",
    "color = input(\"Enter favorite color: \")"
   ]
  },
  {
   "cell_type": "code",
   "execution_count": 2,
   "id": "73481100-9a68-4685-9552-82aa5f9a0d5e",
   "metadata": {},
   "outputs": [
    {
     "name": "stdin",
     "output_type": "stream",
     "text": [
      "Enter your name:  lexi\n",
      "Give a string to be reversed : pittsburgh smells really bad\n"
     ]
    },
    {
     "name": "stdout",
     "output_type": "stream",
     "text": [
      "dab yllaer sllems hgrubsttip\n"
     ]
    }
   ],
   "source": [
    "name = input(\"Enter your name: \")\n",
    "inp = input(\"Give a string to be reversed :\")\n",
    "reversed = \"\"\n",
    "for char in inp:\n",
    "    reversed = char + reversed\n",
    "print(reversed)"
   ]
  },
  {
   "cell_type": "code",
   "execution_count": null,
   "id": "6f92789b-82a8-4f74-85be-cbea3daec1ab",
   "metadata": {},
   "outputs": [],
   "source": []
  }
 ],
 "metadata": {
  "kernelspec": {
   "display_name": "Python 3 (ipykernel)",
   "language": "python",
   "name": "python3"
  },
  "language_info": {
   "codemirror_mode": {
    "name": "ipython",
    "version": 3
   },
   "file_extension": ".py",
   "mimetype": "text/x-python",
   "name": "python",
   "nbconvert_exporter": "python",
   "pygments_lexer": "ipython3",
   "version": "3.12.4"
  }
 },
 "nbformat": 4,
 "nbformat_minor": 5
}
